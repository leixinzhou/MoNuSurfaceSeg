{
 "cells": [
  {
   "cell_type": "code",
   "execution_count": 89,
   "metadata": {},
   "outputs": [],
   "source": [
    "from cartpolar import CartPolar\n",
    "import matplotlib.pyplot as plt\n",
    "import cv2\n",
    "import numpy as np\n",
    "import os"
   ]
  },
  {
   "cell_type": "code",
   "execution_count": 90,
   "metadata": {},
   "outputs": [],
   "source": [
    "combo_dir = \"../../instance_seg/data/MoNuSeg/train_data/combo/\"\n",
    "test_img_dir = os.path.join(combo_dir, \"test_img.npy\")\n",
    "test_gt_dir = os.path.join(combo_dir, \"test_gt.npy\")"
   ]
  },
  {
   "cell_type": "code",
   "execution_count": 91,
   "metadata": {},
   "outputs": [],
   "source": [
    "test_img = np.load(test_img_dir, mmap_mode='r')\n",
    "test_gt = np.load(test_gt_dir, mmap_mode='r')"
   ]
  },
  {
   "cell_type": "code",
   "execution_count": 92,
   "metadata": {},
   "outputs": [],
   "source": [
    "slice = 600"
   ]
  },
  {
   "cell_type": "code",
   "execution_count": 93,
   "metadata": {},
   "outputs": [
    {
     "data": {
      "text/plain": [
       "(1999, 146, 146, 3)"
      ]
     },
     "execution_count": 93,
     "metadata": {},
     "output_type": "execute_result"
    }
   ],
   "source": [
    "test_img.shape"
   ]
  },
  {
   "cell_type": "code",
   "execution_count": 94,
   "metadata": {},
   "outputs": [
    {
     "data": {
      "text/plain": [
       "<matplotlib.image.AxesImage at 0x7f8e2f7629b0>"
      ]
     },
     "execution_count": 94,
     "metadata": {},
     "output_type": "execute_result"
    },
    {
     "data": {
      "image/png": "[encoded data removed]",
      "text/plain": [
       "<Figure size 720x720 with 2 Axes>"
      ]
     },
     "metadata": {
      "needs_background": "light"
     },
     "output_type": "display_data"
    }
   ],
   "source": [
    "_, axes = plt.subplots(1,2, figsize=(10,10))\n",
    "axes[0].imshow(test_img[slice,])\n",
    "axes[1].imshow(test_gt[slice,])"
   ]
  },
  {
   "cell_type": "code",
   "execution_count": 95,
   "metadata": {},
   "outputs": [],
   "source": [
    "# img = cv2.cvtColor(test_gt[slice,].copy(), cv2.COLOR_BGR2GRAY);\n",
    "gt = test_gt[slice,].copy()\n",
    "ret,thresh = cv2.threshold(gt,127,255,0)\n",
    "# contours, hierarchy = cv2.findContours(thresh,cv2.RETR_TREE,cv2.CHAIN_APPROX_SIMPLE)\n",
    "contours, hierarchy = cv2.findContours(thresh,1,2)\n",
    "\n",
    "gt_surf = np.squeeze(contours[0])\n",
    "# gt_surf = np.flip(gt_surf, axis=-1)"
   ]
  },
  {
   "cell_type": "code",
   "execution_count": 96,
   "metadata": {},
   "outputs": [
    {
     "data": {
      "text/plain": [
       "(46, 2)"
      ]
     },
     "execution_count": 96,
     "metadata": {},
     "output_type": "execute_result"
    }
   ],
   "source": [
    "gt_surf.shape"
   ]
  },
  {
   "cell_type": "code",
   "execution_count": 97,
   "metadata": {},
   "outputs": [],
   "source": [
    "ROW_LEN = 32\n",
    "COL_LEN = 64\n",
    "img = np.transpose(test_img[slice,], (2,0,1)) \n",
    "img_shape = img.shape[1:]\n",
    "phy_radius = 0.5*np.sqrt(np.average(np.array(img_shape)**2)) - 1\n",
    "cartpolar = CartPolar(np.array(img_shape)/2.,\n",
    "                      phy_radius, COL_LEN, ROW_LEN)\n",
    "polar_img = cartpolar.img2polar(img)\n",
    "polar_gt = cartpolar.gt2polar(gt_surf)"
   ]
  },
  {
   "cell_type": "code",
   "execution_count": 98,
   "metadata": {},
   "outputs": [
    {
     "data": {
      "text/plain": [
       "(3, 32, 64)"
      ]
     },
     "execution_count": 98,
     "metadata": {},
     "output_type": "execute_result"
    }
   ],
   "source": [
    "polar_img.shape"
   ]
  },
  {
   "cell_type": "code",
   "execution_count": 99,
   "metadata": {},
   "outputs": [
    {
     "data": {
      "text/plain": [
       "[<matplotlib.lines.Line2D at 0x7f8e2f6ad588>]"
      ]
     },
     "execution_count": 99,
     "metadata": {},
     "output_type": "execute_result"
    },
    {
     "data": {
      "image/png": "[encoded data removed]",
      "text/plain": [
       "<Figure size 1080x1080 with 2 Axes>"
      ]
     },
     "metadata": {
      "needs_background": "light"
     },
     "output_type": "display_data"
    }
   ],
   "source": [
    "_, axes = plt.subplots(1,2, figsize=(15,15))\n",
    "axes[0].imshow(np.transpose(polar_img, (1,2,0)))\n",
    "axes[1].imshow(np.transpose(polar_img, (1,2,0)))\n",
    "axes[1].plot(polar_gt, 'b')"
   ]
  }
 ],
 "metadata": {
  "kernelspec": {
   "display_name": "Python 3",
   "language": "python",
   "name": "python3"
  },
  "language_info": {
   "codemirror_mode": {
    "name": "ipython",
    "version": 3
   },
   "file_extension": ".py",
   "mimetype": "text/x-python",
   "name": "python",
   "nbconvert_exporter": "python",
   "pygments_lexer": "ipython3",
   "version": "3.6.7"
  }
 },
 "nbformat": 4,
 "nbformat_minor": 2
}
